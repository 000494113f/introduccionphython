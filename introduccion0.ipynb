{
  "nbformat": 4,
  "nbformat_minor": 0,
  "metadata": {
    "colab": {
      "provenance": [],
      "authorship_tag": "ABX9TyMwEYiKGGZl9kq1sPmzvs4R",
      "include_colab_link": true
    },
    "kernelspec": {
      "name": "python3",
      "display_name": "Python 3"
    },
    "language_info": {
      "name": "python"
    }
  },
  "cells": [
    {
      "cell_type": "markdown",
      "metadata": {
        "id": "view-in-github",
        "colab_type": "text"
      },
      "source": [
        "<a href=\"https://colab.research.google.com/github/000494113f/introduccionphython/blob/main/introduccion0.ipynb\" target=\"_parent\"><img src=\"https://colab.research.google.com/assets/colab-badge.svg\" alt=\"Open In Colab\"/></a>"
      ]
    },
    {
      "cell_type": "markdown",
      "source": [
        "#introduccion a phython\n",
        "## programacion y algoritmia\n",
        "- nombre: franchesca gracia torres\n",
        "- id: 000494113\n",
        "- gmail: franchescagracia943@gmail.com\n",
        "- esta es la expresion de la linea recta:\n",
        "$$y=mx+b$$\n",
        "donde $x$ es la posicion\n",
        "\n",
        "\n",
        "\n",
        "\n",
        "\n"
      ],
      "metadata": {
        "id": "imsWy4MCNOdK"
      }
    },
    {
      "cell_type": "code",
      "source": [],
      "metadata": {
        "id": "FcO3FoBdPKRB"
      },
      "execution_count": null,
      "outputs": []
    }
  ]
}